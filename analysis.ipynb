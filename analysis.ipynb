{
 "cells": [
  {
   "cell_type": "code",
   "execution_count": 1,
   "id": "fd7bc474",
   "metadata": {},
   "outputs": [
    {
     "name": "stdout",
     "output_type": "stream",
     "text": [
      "                                            sentence  sentiment\n",
      "0  awww that s a bummer you shoulda got david car...          0\n",
      "1  is upset that he can t update his facebook by ...          0\n",
      "2  i dived many times for the ball managed to sav...          0\n",
      "3     my whole body feels itchy and like its on fire          0\n",
      "4  no it s not behaving at all i m mad why am i h...          0\n",
      "sentiment\n",
      "0    767059\n",
      "1    756916\n",
      "Name: count, dtype: int64\n"
     ]
    }
   ],
   "source": [
    "import pandas as pd\n",
    "train = pd.read_csv(\"train_data.csv\")  # apni file ka path daal\n",
    "print(train.head())  # pehle 5 rows dekho\n",
    "print(train[\"sentiment\"].value_counts())  # kitne positive, negative hain, yeh check kar"
   ]
  },
  {
   "cell_type": "code",
   "execution_count": 2,
   "id": "8ab4843e",
   "metadata": {},
   "outputs": [
    {
     "name": "stdout",
     "output_type": "stream",
     "text": [
      "Data ready hai: (1523975, 5000)\n"
     ]
    }
   ],
   "source": [
    "import pandas as pd\n",
    "from sklearn.feature_extraction.text import TfidfVectorizer\n",
    "\n",
    "# Data load\n",
    "train = pd.read_csv(\"train_data.csv\")\n",
    "\n",
    "# Text ko vector mein convert karna\n",
    "vectorizer = TfidfVectorizer(max_features=5000, stop_words='english')\n",
    "X = vectorizer.fit_transform(train['sentence'])\n",
    "y = train['sentiment']\n",
    "\n",
    "print(\"Data ready hai:\", X.shape)"
   ]
  },
  {
   "cell_type": "code",
   "execution_count": 3,
   "id": "e19cb7dd",
   "metadata": {},
   "outputs": [
    {
     "name": "stdout",
     "output_type": "stream",
     "text": [
      "Model accuracy: 0.764041404878689\n"
     ]
    }
   ],
   "source": [
    "from sklearn.linear_model import LogisticRegression\n",
    "from sklearn.model_selection import train_test_split\n",
    "\n",
    "# Data ko train aur test mein split karo (yeh alag se test_data bhi hai, par abhi train pe practice)\n",
    "X_train, X_test, y_train, y_test = train_test_split(X, y, test_size=0.2, random_state=42)\n",
    "\n",
    "# Model banayein\n",
    "model = LogisticRegression(max_iter=1000)\n",
    "model.fit(X_train, y_train)\n",
    "\n",
    "# Accuracy check\n",
    "accuracy = model.score(X_test, y_test)\n",
    "print(\"Model accuracy:\", accuracy)"
   ]
  },
  {
   "cell_type": "code",
   "execution_count": 4,
   "id": "91fc5946",
   "metadata": {},
   "outputs": [
    {
     "name": "stdout",
     "output_type": "stream",
     "text": [
      "Test data accuracy: 0.8189415041782729\n"
     ]
    }
   ],
   "source": [
    "import pandas as pd\n",
    "from sklearn.feature_extraction.text import TfidfVectorizer\n",
    "from sklearn.linear_model import LogisticRegression\n",
    "\n",
    "# Train data load\n",
    "train = pd.read_csv(\"train_data.csv\")\n",
    "vectorizer = TfidfVectorizer(max_features=5000, stop_words='english')\n",
    "X_train = vectorizer.fit_transform(train['sentence'])\n",
    "y_train = train['sentiment']\n",
    "\n",
    "# Test data load\n",
    "test = pd.read_csv(\"test_data.csv\")\n",
    "X_test = vectorizer.transform(test['sentence'])  # fit_transform nahi, sirf transform\n",
    "y_test = test['sentiment']\n",
    "\n",
    "# Model train\n",
    "model = LogisticRegression(max_iter=1000)\n",
    "model.fit(X_train, y_train)\n",
    "\n",
    "# Test accuracy\n",
    "accuracy = model.score(X_test, y_test)\n",
    "print(\"Test data accuracy:\", accuracy)"
   ]
  },
  {
   "cell_type": "code",
   "execution_count": 16,
   "id": "da799807",
   "metadata": {},
   "outputs": [
    {
     "name": "stdout",
     "output_type": "stream",
     "text": [
      "Sentiment: Negative\n"
     ]
    }
   ],
   "source": [
    "# User input prediction\n",
    "user_tweet = input(\"Ek tweet daal bhai: \")\n",
    "tweet_vector = vectorizer.transform([user_tweet])  # single tweet ko vector mein\n",
    "prediction = model.predict(tweet_vector)\n",
    "print(\"Sentiment:\", \"Positive\" if prediction[0] == 1 else \"Negative\")"
   ]
  }
 ],
 "metadata": {
  "kernelspec": {
   "display_name": "Python 3",
   "language": "python",
   "name": "python3"
  },
  "language_info": {
   "codemirror_mode": {
    "name": "ipython",
    "version": 3
   },
   "file_extension": ".py",
   "mimetype": "text/x-python",
   "name": "python",
   "nbconvert_exporter": "python",
   "pygments_lexer": "ipython3",
   "version": "3.12.4"
  }
 },
 "nbformat": 4,
 "nbformat_minor": 5
}
